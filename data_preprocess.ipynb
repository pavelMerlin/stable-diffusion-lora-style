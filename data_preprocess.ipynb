{
 "cells": [
  {
   "metadata": {},
   "cell_type": "code",
   "outputs": [],
   "execution_count": null,
   "source": "import os",
   "id": "552225f2fe23b62"
  },
  {
   "metadata": {},
   "cell_type": "markdown",
   "source": "Переименовка файлов",
   "id": "a5897a46e160c360"
  },
  {
   "metadata": {},
   "cell_type": "code",
   "outputs": [],
   "execution_count": 1,
   "source": [
    "# # Путь к папке с изображениями\n",
    "# folder_path = \"data/raw_data/\"\n",
    "# \n",
    "# def rename_files_in_folder(folder_path):\n",
    "#     \"\"\"\n",
    "#     Переименовать все файлы \n",
    "#     :param folder_path: путь к файлам\n",
    "#     \"\"\"\n",
    "#     # Получаем список всех файлов в папке\n",
    "#     files = os.listdir(folder_path)\n",
    "#     \n",
    "#     # Фильтруем только файлы изображений (по расширению)\n",
    "#     image_files = [f for f in files if f.endswith(('.png', '.jpg', '.jpeg'))]\n",
    "#     \n",
    "#     # Сортируем файлы (на случай если они не отсортированы)\n",
    "#     image_files.sort()\n",
    "# \n",
    "#     # Переименовываем каждый файл\n",
    "#     for index, filename in enumerate(image_files, start=1):\n",
    "#         # Определяем расширение файла\n",
    "#         ext = os.path.splitext(filename)[1]\n",
    "#         \n",
    "#         # Формируем новое имя файла\n",
    "#         new_name = f\"{index}{ext}\"\n",
    "#         \n",
    "#         # Полные пути для старого и нового имени\n",
    "#         old_file = os.path.join(folder_path, filename)\n",
    "#         new_file = os.path.join(folder_path, new_name)\n",
    "#         \n",
    "#         # Переименование файла\n",
    "#         os.rename(old_file, new_file)\n",
    "#         print(f\"Renamed {filename} to {new_name}\")\n",
    "# \n",
    "# # Запуск функции переименования\n",
    "# rename_files_in_folder(folder_path)  R"
   ],
   "id": "initial_id"
  },
  {
   "metadata": {
    "ExecuteTime": {
     "end_time": "2024-10-07T17:25:51.108014Z",
     "start_time": "2024-10-07T17:25:51.100702Z"
    }
   },
   "cell_type": "code",
   "source": [
    "from PIL import Image\n",
    "\n",
    "# Путь к папке с исходными изображениями\n",
    "input_folder = \"data/raw_data\"\n",
    "# Путь к папке для сохранения обработанных изображений\n",
    "output_folder = \"data/proc_data\"\n",
    "\n",
    "# Размеры, к которым нужно привести все изображения (например, 512x512)\n",
    "image_size = (512, 512)\n",
    "\n",
    "def preprocess_image(image_path, output_path, size=image_size):\n",
    "    with Image.open(image_path) as img:\n",
    "        # Определение аспектного соотношения и ресайз\n",
    "        img.thumbnail(size, Image.Resampling.LANCZOS)\n",
    "        \n",
    "        # Создаем новое изображение с белым фоном и нужными размерами\n",
    "        new_img = Image.new(\"RGB\", size, (255, 255, 255))\n",
    "        \n",
    "        # Центрируем исходное изображение на белом фоне\n",
    "        new_img.paste(img, ((size[0] - img.size[0]) // 2, (size[1] - img.size[1]) // 2))\n",
    "        \n",
    "        # Сохраняем в указанную папку\n",
    "        new_img.save(output_path, format=\"PNG\")"
   ],
   "id": "6420702e3e1aad57",
   "outputs": [],
   "execution_count": 6
  },
  {
   "metadata": {
    "ExecuteTime": {
     "end_time": "2024-10-07T17:25:51.316093Z",
     "start_time": "2024-10-07T17:25:51.311816Z"
    }
   },
   "cell_type": "code",
   "source": [
    "# Проверка на папку для выкачки фоток\n",
    "if not os.path.exists(output_folder):\n",
    "    os.makedirs(output_folder)\n",
    "    print(\"Output folder created\")"
   ],
   "id": "21a00780a19270c9",
   "outputs": [],
   "execution_count": 7
  },
  {
   "metadata": {},
   "cell_type": "code",
   "source": [
    "# Цикл по всем файлам в папке с исходными изображениями\n",
    "for filename in os.listdir(input_folder):\n",
    "    # Проверяем, что файл является изображением (имеет расширение .jpg или .png)\n",
    "    if filename.endswith(\".jpg\") or filename.endswith(\".png\"):\n",
    "        # Формируем полный путь к исходному изображению\n",
    "        img_path = os.path.join(input_folder, filename)\n",
    "        # Формируем полный путь для сохранения обработанного изображения\n",
    "        output_path = os.path.join(output_folder, filename)\n",
    "        \n",
    "        # Вызываем функцию для обработки изображения\n",
    "        preprocess_image(img_path, output_path)\n",
    "        \n",
    "        # Печатаем сообщение о том, что изображение успешно обработано\n",
    "        # print(f\"Processed {filename}\")"
   ],
   "id": "464ea49868bff47b",
   "outputs": [],
   "execution_count": null
  },
  {
   "metadata": {},
   "cell_type": "code",
   "outputs": [],
   "execution_count": null,
   "source": "",
   "id": "5e17f34db5a92733"
  }
 ],
 "metadata": {
  "kernelspec": {
   "display_name": "Python 3",
   "language": "python",
   "name": "python3"
  },
  "language_info": {
   "codemirror_mode": {
    "name": "ipython",
    "version": 2
   },
   "file_extension": ".py",
   "mimetype": "text/x-python",
   "name": "python",
   "nbconvert_exporter": "python",
   "pygments_lexer": "ipython2",
   "version": "2.7.6"
  }
 },
 "nbformat": 4,
 "nbformat_minor": 5
}
